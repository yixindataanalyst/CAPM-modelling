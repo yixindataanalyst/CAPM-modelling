{
 "cells": [
  {
   "cell_type": "code",
   "execution_count": 1,
   "metadata": {},
   "outputs": [],
   "source": [
    "import statsmodels.formula.api as smf\n",
    "import pandas as pd\n",
    "import numpy as np\n",
    "import time\n",
    "import matplotlib.pyplot as plt\n",
    "import matplotlib.dates as dates\n",
    "import statsmodels.api as sm\n",
    "import getstock\n",
    "\n",
    "apikey = \"xxx\"\n",
    "apikey_zzl = \"xxx\"\n",
    "apikey_st = \"xxx\""
   ]
  },
  {
   "cell_type": "code",
   "execution_count": 2,
   "metadata": {},
   "outputs": [],
   "source": [
    "import xlrd\n",
    "def readExcelFile(filename):\n",
    "    # 打开工作表\n",
    "    workbook = xlrd.open_workbook(filename=filename)\n",
    "    # 用索引取第一个工作薄\n",
    "    booksheet = workbook.sheet_by_index(0)\n",
    "    Stocks_Name = []\n",
    "    # 返回的结果集\n",
    "    for i in range(1,506):\n",
    "        Stocks_Name.append(booksheet.row_values(i)[0])\n",
    "        # print(i,\": \",booksheet.row_values(i)[0])\n",
    "    return Stocks_Name\n",
    "Stocks_Name = readExcelFile(\"./SP_Stocks.xlsx\")"
   ]
  },
  {
   "cell_type": "code",
   "execution_count": 9,
   "metadata": {},
   "outputs": [
    {
     "name": "stdout",
     "output_type": "stream",
     "text": [
      "0 CARR  ok\n"
     ]
    },
    {
     "data": {
      "text/plain": [
       "505"
      ]
     },
     "execution_count": 9,
     "metadata": {},
     "output_type": "execute_result"
    }
   ],
   "source": [
    "def getStocks(Stocks_name):\n",
    "    columns = [ 'open', 'high', 'low', 'close', 'adjusted_close', 'volume', 'dividend_amt']\n",
    "    Stocks = []\n",
    "    i = 0\n",
    "    for stock_symbol in Stocks_name:\n",
    "        if i%2==0:\n",
    "            print(i, stock_symbol, end=\" \")\n",
    "            per = getstock.getMonthlyStockPrices(stock_symbol, apikey_zzl)\n",
    "            print(\" ok\", end=\"\\n\")\n",
    "        elif i%2==1:\n",
    "            print(i, stock_symbol, end=\" \")\n",
    "            per = getstock.getMonthlyStockPrices(stock_symbol, apikey_st)\n",
    "            print(\" ok\", end=\"\\n\")\n",
    "        per.columns = columns\n",
    "        path = './stocks505/' + stock_symbol + '_monthly.csv'\n",
    "        per.to_csv(path)\n",
    "        i+=1\n",
    "        time.sleep(10)\n",
    "    return Stocks\n",
    "# 1-80个 2-2个 3-45个\n",
    "Stocks = getStocks(Stocks_Name[505:])\n",
    "len(Stocks_Name)"
   ]
  },
  {
   "cell_type": "code",
   "execution_count": 8,
   "metadata": {},
   "outputs": [
    {
     "name": "stdout",
     "output_type": "stream",
     "text": [
      "Yes Yes Yes Yes Yes Yes Yes Yes Yes Yes Yes Yes Yes Yes Yes Yes Yes Yes Yes Yes Yes Yes Yes Yes Yes Yes Yes Yes Yes Yes Yes Yes Yes Yes Yes Yes Yes Yes Yes Yes Yes Yes Yes Yes Yes Yes Yes Yes Yes Yes Yes Yes Yes Yes Yes Yes Yes Yes Yes Yes Yes Yes Yes Yes Yes Yes Yes Yes Yes Yes Yes Yes Yes Yes Yes Yes Yes Yes Yes Yes \n",
      "No:BF.B\n",
      "Yes Yes Yes Yes Yes Yes Yes Yes Yes Yes Yes Yes Yes Yes Yes Yes Yes Yes Yes Yes Yes Yes Yes Yes Yes Yes Yes Yes Yes Yes Yes Yes Yes Yes Yes Yes Yes Yes Yes Yes Yes Yes Yes Yes Yes Yes Yes Yes Yes Yes Yes Yes Yes Yes Yes Yes Yes Yes Yes Yes Yes Yes Yes Yes Yes Yes Yes Yes Yes Yes Yes Yes Yes Yes Yes Yes Yes Yes Yes Yes Yes Yes Yes Yes Yes Yes Yes Yes Yes Yes Yes Yes Yes Yes Yes Yes Yes Yes Yes Yes Yes Yes Yes Yes Yes Yes Yes Yes Yes Yes Yes Yes Yes Yes Yes Yes Yes Yes Yes Yes Yes Yes Yes Yes Yes Yes Yes Yes Yes Yes Yes Yes Yes Yes Yes Yes Yes Yes Yes Yes Yes Yes Yes Yes Yes Yes Yes Yes Yes Yes Yes Yes Yes Yes Yes Yes Yes Yes Yes Yes Yes Yes Yes Yes Yes Yes Yes Yes Yes Yes Yes Yes Yes Yes Yes Yes Yes Yes Yes Yes Yes Yes Yes Yes Yes Yes Yes Yes Yes Yes Yes Yes Yes Yes Yes Yes Yes Yes Yes Yes Yes Yes Yes Yes Yes Yes Yes Yes Yes Yes Yes Yes Yes Yes Yes Yes Yes Yes Yes Yes Yes Yes Yes Yes Yes Yes Yes Yes Yes Yes Yes Yes Yes Yes Yes Yes Yes Yes Yes Yes Yes Yes Yes Yes Yes Yes Yes Yes Yes Yes Yes Yes Yes Yes Yes Yes Yes Yes Yes Yes Yes Yes Yes Yes Yes Yes Yes Yes Yes Yes Yes Yes Yes Yes Yes Yes Yes Yes Yes Yes Yes Yes Yes Yes Yes Yes Yes Yes Yes Yes Yes Yes Yes Yes Yes Yes Yes Yes Yes Yes Yes Yes Yes Yes Yes Yes Yes Yes Yes Yes Yes Yes Yes Yes Yes Yes Yes Yes Yes Yes Yes Yes Yes Yes Yes Yes Yes Yes Yes Yes Yes Yes Yes Yes Yes Yes Yes Yes Yes Yes Yes Yes Yes Yes Yes Yes Yes Yes Yes Yes Yes Yes Yes Yes Yes Yes Yes Yes Yes Yes Yes Yes Yes Yes Yes Yes Yes Yes Yes Yes Yes Yes Yes Yes Yes Yes Yes Yes Yes Yes Yes Yes Yes Yes Yes Yes Yes Yes Yes Yes Yes Yes Yes Yes Yes Yes Yes Yes Yes Yes Yes Yes Yes Yes Yes Yes Yes Yes Yes Yes Yes Yes Yes Yes Yes Yes Yes Yes Yes Yes Yes Yes Yes Yes \n",
      "Yes: 504\n",
      "No: 1\n",
      "Total: 505\n"
     ]
    }
   ],
   "source": [
    "import os\n",
    "def Exist(symbol):\n",
    "    path = './stocks505/' + symbol + '_monthly.csv'\n",
    "    if os.path.exists(path):\n",
    "        return True\n",
    "    else:\n",
    "        return False\n",
    "    return False\n",
    "Yes = 0\n",
    "No = 0\n",
    "for stock in Stocks_Name:\n",
    "    if(Exist(stock)):\n",
    "        Yes+=1\n",
    "        print('Yes', end=\" \")\n",
    "    else:\n",
    "        No+=1\n",
    "        print(\"\\nNo:{}\".format(stock))\n",
    "print(\"\\nYes: {}\".format(Yes))\n",
    "print(\"No: {}\".format(No))\n",
    "print(\"Total: {}\".format(Yes+No))"
   ]
  }
 ],
 "metadata": {
  "kernelspec": {
   "display_name": "Python 3",
   "language": "python",
   "name": "python3"
  },
  "language_info": {
   "codemirror_mode": {
    "name": "ipython",
    "version": 3
   },
   "file_extension": ".py",
   "mimetype": "text/x-python",
   "name": "python",
   "nbconvert_exporter": "python",
   "pygments_lexer": "ipython3",
   "version": "3.7.10"
  }
 },
 "nbformat": 4,
 "nbformat_minor": 4
}
